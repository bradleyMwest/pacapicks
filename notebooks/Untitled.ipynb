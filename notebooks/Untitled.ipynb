{
 "cells": [
  {
   "cell_type": "code",
   "execution_count": 3,
   "id": "cdd91524-77f0-4aaa-8622-524722c39fb2",
   "metadata": {},
   "outputs": [],
   "source": [
    "import json\n",
    "from pacapicks.ai.schemas import Portfolio"
   ]
  },
  {
   "cell_type": "code",
   "execution_count": 7,
   "id": "1f89e07a-0903-4006-8e26-7b3adfbc9b38",
   "metadata": {},
   "outputs": [],
   "source": [
    "with open('../pacapicks/datastore/portfolio_20250830.json', 'r') as f:\n",
    "    data = json.load(f)\n",
    "    portfolio = Portfolio.model_validate(data)"
   ]
  },
  {
   "cell_type": "code",
   "execution_count": 8,
   "id": "d27c383c-8743-4333-827b-d2af69a2647b",
   "metadata": {},
   "outputs": [
    {
     "data": {
      "text/plain": [
       "Portfolio(positions=[Position(ticker='RKT', shares=83.616, cost_basis=1350.0, current_value=1485.85), Position(ticker='CRNC', shares=30.139, cost_basis=346.19, current_value=317.36), Position(ticker='PGEN', shares=50.0, cost_basis=136.24, current_value=225.5), Position(ticker='Z', shares=6.0, cost_basis=468.97, current_value=505.86), Position(ticker='RUN', shares=24.195, cost_basis=245.91, current_value=386.39), Position(ticker='TSM', shares=12.438, cost_basis=2499.88, current_value=2871.56), Position(ticker='NVDA', shares=19.695, cost_basis=2499.88, current_value=3430.47), Position(ticker='HIMS', shares=12.0, cost_basis=539.41, current_value=508.2), Position(ticker='POAI', shares=33.0, cost_basis=25.41, current_value=28.87)], cash=1326.03)"
      ]
     },
     "execution_count": 8,
     "metadata": {},
     "output_type": "execute_result"
    }
   ],
   "source": [
    "import yfinance as yf"
   ]
  }
 ],
 "metadata": {
  "kernelspec": {
   "display_name": "pacapicks",
   "language": "python",
   "name": "pacapicks"
  },
  "language_info": {
   "codemirror_mode": {
    "name": "ipython",
    "version": 3
   },
   "file_extension": ".py",
   "mimetype": "text/x-python",
   "name": "python",
   "nbconvert_exporter": "python",
   "pygments_lexer": "ipython3",
   "version": "3.12.2"
  }
 },
 "nbformat": 4,
 "nbformat_minor": 5
}
