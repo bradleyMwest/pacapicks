{
 "cells": [
  {
   "cell_type": "code",
   "execution_count": 1,
   "id": "e68cf9e7-cb81-47d7-b0e0-7e754a27b1ae",
   "metadata": {},
   "outputs": [],
   "source": [
    "%load_ext autoreload\n",
    "%autoreload 2"
   ]
  },
  {
   "cell_type": "code",
   "execution_count": 16,
   "id": "cdd91524-77f0-4aaa-8622-524722c39fb2",
   "metadata": {},
   "outputs": [],
   "source": [
    "import json\n",
    "import yfinance as yf\n",
    "from pacapicks.ai.portfolio_schema import Portfolio\n",
    "from pacapicks.jobs.fundamentals import load_fundamentals_from_yfinance\n",
    "from pacapicks.io.endpoints import fetch_fundamentals_fmp_free"
   ]
  },
  {
   "cell_type": "code",
   "execution_count": 3,
   "id": "1f89e07a-0903-4006-8e26-7b3adfbc9b38",
   "metadata": {},
   "outputs": [],
   "source": [
    "with open('../pacapicks/datastore/portfolio_20250830.json', 'r') as f:\n",
    "    data = json.load(f)\n",
    "    portfolio = Portfolio.model_validate(data)"
   ]
  },
  {
   "cell_type": "code",
   "execution_count": 22,
   "id": "080b1f87-8e98-463f-8b33-7654ea9b47c0",
   "metadata": {},
   "outputs": [
    {
     "data": {
      "text/plain": [
       "'PGEN'"
      ]
     },
     "execution_count": 22,
     "metadata": {},
     "output_type": "execute_result"
    }
   ],
   "source": [
    "position.ticker"
   ]
  },
  {
   "cell_type": "code",
   "execution_count": 24,
   "id": "8602004f-9ce1-45fa-93ef-847f75716d20",
   "metadata": {},
   "outputs": [
    {
     "name": "stdout",
     "output_type": "stream",
     "text": [
      "RKT: {'revenue_yoy_pct_q': 3.1825361743657505, 'operating_margin_pct': 14.324, 'pe_ttm': None, 'ps_ttm': 7.280573, 'cash_reserves_musd': None, 'total_debt_musd': 20338.040832, 'market_cap_musd': 37506.961408, 'warnings': [], 'net_debt_musd': None}\n",
      "CRNC: {'revenue_yoy_pct_q': -11.77079346177292, 'operating_margin_pct': -0.15700001, 'pe_ttm': None, 'ps_ttm': 1.8546939, 'cash_reserves_musd': None, 'total_debt_musd': 216.986, 'market_cap_musd': 456.156416, 'warnings': [], 'net_debt_musd': None}\n",
      "PGEN: {'revenue_yoy_pct_q': 19.386331938633194, 'operating_margin_pct': None, 'pe_ttm': None, 'ps_ttm': 309.64478, 'cash_reserves_musd': None, 'total_debt_musd': 5.153, 'market_cap_musd': 1343.858304, 'warnings': ['Operating margin out of bounds: -3254.32%'], 'net_debt_musd': None}\n",
      "Z: {'revenue_yoy_pct_q': 14.51048951048951, 'operating_margin_pct': -1.6789999999999998, 'pe_ttm': None, 'ps_ttm': 8.486854, 'cash_reserves_musd': None, 'total_debt_musd': 328.0, 'market_cap_musd': 20266.606592, 'warnings': [], 'net_debt_musd': None}\n",
      "RUN: {'revenue_yoy_pct_q': 8.67970053410605, 'operating_margin_pct': -19.715999, 'pe_ttm': None, 'ps_ttm': 1.7305472, 'cash_reserves_musd': None, 'total_debt_musd': 14165.026816, 'market_cap_musd': 3684.805888, 'warnings': [], 'net_debt_musd': None}\n",
      "TSM: {'revenue_yoy_pct_q': 38.6456028863714, 'operating_margin_pct': 49.627998, 'pe_ttm': 25.370329, 'ps_ttm': 0.35205585, 'cash_reserves_musd': None, 'total_debt_musd': 1012974.944256, 'market_cap_musd': 1197411.926016, 'warnings': [], 'net_debt_musd': None}\n",
      "NVDA: {'revenue_yoy_pct_q': 55.60252996005326, 'operating_margin_pct': 60.842997, 'pe_ttm': 49.482952, 'ps_ttm': 25.667667, 'cash_reserves_musd': None, 'total_debt_musd': 10597.999616, 'market_cap_musd': 4240760.373248, 'warnings': [], 'net_debt_musd': None}\n",
      "HIMS: {'revenue_yoy_pct_q': 72.60777828467154, 'operating_margin_pct': 4.9050003, 'pe_ttm': 53.60759, 'ps_ttm': 4.7537947, 'cash_reserves_musd': None, 'total_debt_musd': 1044.387968, 'market_cap_musd': 9571.946496, 'warnings': [], 'net_debt_musd': None}\n",
      "POAI: {'revenue_yoy_pct_q': -96.0121924020519, 'operating_margin_pct': None, 'pe_ttm': None, 'ps_ttm': 5.724783, 'cash_reserves_musd': None, 'total_debt_musd': 2.111693, 'market_cap_musd': 9.530023, 'warnings': ['Operating margin out of bounds: -99174.80%'], 'net_debt_musd': None}\n"
     ]
    }
   ],
   "source": [
    "for position in portfolio.positions:\n",
    "    fundamentals = load_fundamentals_from_yfinance(position.ticker)\n",
    "    print(f\"{position.ticker}: {fundamentals.model_dump()}\")\n",
    "    "
   ]
  }
 ],
 "metadata": {
  "kernelspec": {
   "display_name": "pacapicks",
   "language": "python",
   "name": "pacapicks"
  },
  "language_info": {
   "codemirror_mode": {
    "name": "ipython",
    "version": 3
   },
   "file_extension": ".py",
   "mimetype": "text/x-python",
   "name": "python",
   "nbconvert_exporter": "python",
   "pygments_lexer": "ipython3",
   "version": "3.12.2"
  }
 },
 "nbformat": 4,
 "nbformat_minor": 5
}
