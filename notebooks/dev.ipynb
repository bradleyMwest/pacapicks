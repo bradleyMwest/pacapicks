{
 "cells": [
  {
   "cell_type": "code",
   "execution_count": 2,
   "id": "3fb061ad-44af-4425-ba50-34b9a818c763",
   "metadata": {},
   "outputs": [],
   "source": [
    "%load_ext autoreload\n",
    "%autoreload 2"
   ]
  },
  {
   "cell_type": "code",
   "execution_count": 3,
   "id": "82d99e08-d99a-4fca-9c05-a46f1c3d73b6",
   "metadata": {},
   "outputs": [
    {
     "ename": "ModuleNotFoundError",
     "evalue": "No module named 'pacapicks'",
     "output_type": "error",
     "traceback": [
      "\u001b[31m---------------------------------------------------------------------------\u001b[39m",
      "\u001b[31mModuleNotFoundError\u001b[39m                       Traceback (most recent call last)",
      "\u001b[36mCell\u001b[39m\u001b[36m \u001b[39m\u001b[32mIn[3]\u001b[39m\u001b[32m, line 1\u001b[39m\n\u001b[32m----> \u001b[39m\u001b[32m1\u001b[39m \u001b[38;5;28;01mfrom\u001b[39;00m\u001b[38;5;250m \u001b[39m\u001b[34;01mpacapicks\u001b[39;00m\u001b[34;01m.\u001b[39;00m\u001b[34;01mai\u001b[39;00m\u001b[34;01m.\u001b[39;00m\u001b[34;01mschemas\u001b[39;00m\u001b[38;5;250m \u001b[39m\u001b[38;5;28;01mimport\u001b[39;00m Portfolio\n",
      "\u001b[31mModuleNotFoundError\u001b[39m: No module named 'pacapicks'"
     ]
    }
   ],
   "source": [
    "from pacapicks.ai.schemas import Portfolio"
   ]
  },
  {
   "cell_type": "code",
   "execution_count": null,
   "id": "dfade0e1-c69d-47a9-aa10-ab884989571e",
   "metadata": {},
   "outputs": [],
   "source": [
    "import yfinance as yf\n",
    "\n",
    "t = yf.Ticker(\"HIMS\")"
   ]
  },
  {
   "cell_type": "code",
   "execution_count": null,
   "id": "f7479e22-5c4f-402b-adfd-29bdbe8adbcb",
   "metadata": {},
   "outputs": [],
   "source": [
    "t.get_news()"
   ]
  }
 ],
 "metadata": {
  "kernelspec": {
   "display_name": "pacapicks",
   "language": "python",
   "name": "pacapicks"
  },
  "language_info": {
   "codemirror_mode": {
    "name": "ipython",
    "version": 3
   },
   "file_extension": ".py",
   "mimetype": "text/x-python",
   "name": "python",
   "nbconvert_exporter": "python",
   "pygments_lexer": "ipython3",
   "version": "3.12.2"
  }
 },
 "nbformat": 4,
 "nbformat_minor": 5
}
